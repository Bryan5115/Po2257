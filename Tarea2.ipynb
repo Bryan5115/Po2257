{
  "nbformat": 4,
  "nbformat_minor": 0,
  "metadata": {
    "colab": {
      "name": "Tarea2.ipynb",
      "provenance": [],
      "collapsed_sections": [],
      "authorship_tag": "ABX9TyPswwX8jjVeiBOwQt9vsgwP",
      "include_colab_link": true
    },
    "kernelspec": {
      "name": "python3",
      "display_name": "Python 3"
    },
    "language_info": {
      "name": "python"
    }
  },
  "cells": [
    {
      "cell_type": "markdown",
      "metadata": {
        "id": "view-in-github",
        "colab_type": "text"
      },
      "source": [
        "<a href=\"https://colab.research.google.com/github/Bryan5115/Po2257/blob/master/Tarea2.ipynb\" target=\"_parent\"><img src=\"https://colab.research.google.com/assets/colab-badge.svg\" alt=\"Open In Colab\"/></a>"
      ]
    },
    {
      "cell_type": "code",
      "metadata": {
        "colab": {
          "base_uri": "https://localhost:8080/"
        },
        "id": "pNX2JL4NBec7",
        "outputId": "3d463340-b5ac-4538-e313-24d1b44a976e"
      },
      "source": [
        "\"\"\"\n",
        "Crear una lista de enteros en Python y realizar la suma con recursividad, el\n",
        "caso base es cuando la lista esté vacía.\n",
        "\"\"\"\n",
        "\n",
        "def suma(lista):\n",
        "   if len(lista) == 1:\n",
        "        return lista[0]\n",
        "   else:\n",
        "        return lista[0] + suma(lista[1:])\n",
        "\n",
        "print(suma([2,4,8,7,9]))\n"
      ],
      "execution_count": null,
      "outputs": [
        {
          "output_type": "stream",
          "name": "stdout",
          "text": [
            "30\n"
          ]
        }
      ]
    },
    {
      "cell_type": "code",
      "metadata": {
        "colab": {
          "base_uri": "https://localhost:8080/"
        },
        "id": "45tKdgjSJUQV",
        "outputId": "e86b8403-a456-447b-a265-1e263532220f"
      },
      "source": [
        "\"\"\"\n",
        "Hacer un contador regresivo con recursión y cuando termine ( conteo llega a\n",
        "cero) que imprima la palabra BOOMMMMM !!!.\n",
        "\"\"\"\n",
        "\n",
        "def printrev(n):\n",
        "  if n >= 1:\n",
        "    print(n)\n",
        "    printrev(n - 1)\n",
        "    if n == 1:\n",
        "      print(\"BOOOMMMM!!!\")\n",
        "\n",
        "  \n",
        "\n",
        "\n",
        "n = 5\n",
        "printrev (n)"
      ],
      "execution_count": null,
      "outputs": [
        {
          "output_type": "stream",
          "name": "stdout",
          "text": [
            "5\n",
            "4\n",
            "3\n",
            "2\n",
            "1\n",
            "BOOOMMMM!!!\n"
          ]
        }
      ]
    },
    {
      "cell_type": "code",
      "metadata": {
        "id": "X3NclsROc1cD",
        "colab": {
          "base_uri": "https://localhost:8080/"
        },
        "outputId": "03fb33b2-28d9-4cdf-867d-ab383cb5c5d6"
      },
      "source": [
        "\"\"\"\n",
        "► Eliminar de una lista o arreglo, el elemento que está en la posición media. Si\n",
        "la dimensión del arreglo es par, sacar el elemento previo al punto medio.\n",
        "\"\"\"\n",
        "\n",
        "lista = [1,2,3,4,5]\n",
        "lista.remove(3)\n",
        "print(lista)"
      ],
      "execution_count": null,
      "outputs": [
        {
          "output_type": "stream",
          "name": "stdout",
          "text": [
            "[1, 2, 4, 5]\n"
          ]
        }
      ]
    }
  ]
}